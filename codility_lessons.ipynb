{
  "nbformat": 4,
  "nbformat_minor": 0,
  "metadata": {
    "colab": {
      "name": "codility_lessons.ipynb",
      "provenance": []
    },
    "kernelspec": {
      "name": "python3",
      "display_name": "Python 3"
    },
    "language_info": {
      "name": "python"
    }
  },
  "cells": [
    {
      "cell_type": "markdown",
      "metadata": {
        "id": "bEHnO8vi4Hhh"
      },
      "source": [
        "## Lesson 1 - Iterations\n",
        "\n",
        "1. Binary gap\n",
        "\n",
        "A binary gap within a positive integer N is any maximal sequence of consecutive zeros that is surrounded by ones at both ends in the binary representation of N.\n",
        "\n",
        "For example, number 9 has binary representation 1001 and contains a binary gap of length 2. The number 529 has binary representation 1000010001 and contains two binary gaps: one of length 4 and one of length 3. The number 20 has binary representation 10100 and contains one binary gap of length 1. The number 15 has binary representation 1111 and has no binary gaps. The number 32 has binary representation 100000 and has no binary gaps.\n",
        "\n",
        "Write a function:\n",
        "\n",
        "*_def solution(N)_*\n",
        "\n",
        "*_that, given a positive integer N, returns the length of its longest binary gap. The function should return 0 if N doesn't contain a binary gap._*\n",
        "\n",
        "For example, given N = 1041 the function should return 5, because N has binary representation 10000010001 and so its longest binary gap is of length 5. Given N = 32 the function should return 0, because N has binary representation '100000' and thus no binary gaps.\n",
        "\n",
        "Write an efficient algorithm for the following assumptions:\n",
        "\n",
        "N is an integer within the range [1..2,147,483,647].\n",
        "\n",
        "Material de referência: https://codility.com/media/train/Iterations.pdf\n",
        "\n"
      ]
    },
    {
      "cell_type": "code",
      "metadata": {
        "colab": {
          "base_uri": "https://localhost:8080/"
        },
        "id": "ICpp4RCt359Q",
        "outputId": "6152bd8c-6478-4446-bfa0-daf3f8cd875c"
      },
      "source": [
        "# desenvolvimento do raciocínio\n",
        "txt = bin(529)[2:]\n",
        "x = txt.strip('0').split('1')\n",
        "y = max([len(x) for x in x])\n",
        "print(y)"
      ],
      "execution_count": null,
      "outputs": [
        {
          "output_type": "stream",
          "text": [
            "4\n"
          ],
          "name": "stdout"
        }
      ]
    },
    {
      "cell_type": "code",
      "metadata": {
        "id": "36uGivcEaQAF"
      },
      "source": [
        "# função pronta\n",
        "def solution(N):\n",
        "    # write your code in Python 3.6\n",
        "    binary = bin(N)[2:]\n",
        "    x = binary.strip('0').split('1')\n",
        "    result = max([len(x) for x in x])\n",
        "    return result\n",
        "    pass"
      ],
      "execution_count": null,
      "outputs": []
    },
    {
      "cell_type": "markdown",
      "metadata": {
        "id": "z9t0tMZeWle3"
      },
      "source": [
        "## Lesson 2 - Arrays\n",
        "\n",
        "1. CyclicRotation\n",
        "Material de referência: https://codility.com/media/train/0-Arrays.pdf\n",
        "\n",
        "An array A consisting of N integers is given. Rotation of the array means that each element is shifted right by one index, and the last element of the array is moved to the first place. For example, the rotation of array A = [3, 8, 9, 7, 6] is [6, 3, 8, 9, 7] (elements are shifted right by one index and 6 is moved to the first place).\n",
        "\n",
        "The goal is to rotate array A K times; that is, each element of A will be shifted to the right K times.\n",
        "\n",
        "Write a function:\n",
        "\n",
        "def solution(A, K)\n",
        "\n",
        "that, given an array A consisting of N integers and an integer K, returns the array A rotated K times.\n",
        "\n",
        "For example, given\n",
        "\n",
        "    A = [3, 8, 9, 7, 6]\n",
        "    K = 3\n",
        "the function should return [9, 7, 6, 3, 8]. Three rotations were made:\n",
        "\n",
        "    [3, 8, 9, 7, 6] -> [6, 3, 8, 9, 7]\n",
        "    [6, 3, 8, 9, 7] -> [7, 6, 3, 8, 9]\n",
        "    [7, 6, 3, 8, 9] -> [9, 7, 6, 3, 8]\n",
        "For another example, given\n",
        "\n",
        "    A = [0, 0, 0]\n",
        "    K = 1\n",
        "the function should return [0, 0, 0]\n",
        "\n",
        "Given\n",
        "\n",
        "    A = [1, 2, 3, 4]\n",
        "    K = 4\n",
        "the function should return [1, 2, 3, 4]\n",
        "\n",
        "Assume that:\n",
        "\n",
        "N and K are integers within the range [0..100];\n",
        "each element of array A is an integer within the range [−1,000..1,000].\n",
        "In your solution, focus on correctness. The performance of your solution will not be the focus of the assessment."
      ]
    },
    {
      "cell_type": "code",
      "metadata": {
        "id": "xnP5KkhQXj3M"
      },
      "source": [
        "# desenvolvimento do exercício (did my best)\n",
        "\n",
        "def solution(A, K):\n",
        "    for i in (A):\n",
        "        C = A[-1]\n",
        "        A.pop()\n",
        "        A.insert(0,C) \n",
        "    return A\n",
        "#não passou nos usos de casos em que o array contém listas aninhadas"
      ],
      "execution_count": null,
      "outputs": []
    },
    {
      "cell_type": "code",
      "metadata": {
        "id": "jxQjq_vdXr-U"
      },
      "source": [
        "# solução final\n",
        " def solution(A, K):\n",
        "    # write your code in Python 3.6\n",
        "    B = [0] * len(A) #criando um array com a mesma quantidade de posições de A, nesse momento, apenas com valores == 0\n",
        "    for i in range(K):\n",
        "        B[0] = A[-1]\n",
        "        A.pop()\n",
        "        B[1:] = A[0:]\n",
        "        A = B.copy()\n",
        "    return A\n",
        "    pass"
      ],
      "execution_count": null,
      "outputs": []
    },
    {
      "cell_type": "markdown",
      "metadata": {
        "id": "FDU-kpbNZMAC"
      },
      "source": [
        "2. Odd Occurences in Array\n",
        "\n",
        "A non-empty array A consisting of N integers is given. The array contains an odd number of elements, and each element of the array can be paired with another element that has the same value, except for one element that is left unpaired.\n",
        "\n",
        "For example, in array A such that:\n",
        "\n",
        "  A[0] = 9  A[1] = 3  A[2] = 9\n",
        "  A[3] = 3  A[4] = 9  A[5] = 7\n",
        "  A[6] = 9\n",
        "the elements at indexes 0 and 2 have value 9,\n",
        "the elements at indexes 1 and 3 have value 3,\n",
        "the elements at indexes 4 and 6 have value 9,\n",
        "the element at index 5 has value 7 and is unpaired.\n",
        "Write a function:\n",
        "\n",
        "def solution(A)\n",
        "\n",
        "that, given an array A consisting of N integers fulfilling the above conditions, returns the value of the unpaired element.\n",
        "\n",
        "For example, given array A such that:\n",
        "\n",
        "  A[0] = 9  A[1] = 3  A[2] = 9\n",
        "  A[3] = 3  A[4] = 9  A[5] = 7\n",
        "  A[6] = 9\n",
        "the function should return 7, as explained in the example above.\n",
        "\n",
        "Write an efficient algorithm for the following assumptions:\n",
        "\n",
        "N is an odd integer within the range [1..1,000,000];\n",
        "each element of array A is an integer within the range [1..1,000,000,000];\n",
        "all but one of the values in A occur an even number of times."
      ]
    },
    {
      "cell_type": "code",
      "metadata": {
        "id": "Qh6XkmIKQ0zw"
      },
      "source": [
        "# desenvolvimento e solução final\n",
        "# MANDAMO MTO BEM NESSA, TAMO EVOLUINDO NA GAME!\n",
        "def solution(A):\n",
        "    # write your code in Python 3.6\n",
        "    result = [x for x in A if A.count(x) == 1]\n",
        "    return result[0]\n",
        "    pass"
      ],
      "execution_count": null,
      "outputs": []
    },
    {
      "cell_type": "markdown",
      "metadata": {
        "id": "mtwVhKhBZAxG"
      },
      "source": [
        "## Lesson 3 - Time Complexity\n",
        "\n",
        "Material de referência: https://codility.com/media/train/1-TimeComplexity.pdf\n",
        "\n",
        "1. FrogJmp\n",
        "\n",
        "A small frog wants to get to the other side of the road. The frog is currently located at position X and wants to get to a position greater than or equal to Y. The small frog always jumps a fixed distance, D.\n",
        "\n",
        "Count the minimal number of jumps that the small frog must perform to reach its target.\n",
        "\n",
        "Write a function:\n",
        "\n",
        "def solution(X, Y, D)\n",
        "\n",
        "that, given three integers X, Y and D, returns the minimal number of jumps from position X to a position equal to or greater than Y.\n",
        "\n",
        "For example, given:\n",
        "\n",
        "  X = 10\n",
        "  Y = 85\n",
        "  D = 30\n",
        "the function should return 3, because the frog will be positioned as follows:\n",
        "\n",
        "after the first jump, at position 10 + 30 = 40\n",
        "after the second jump, at position 10 + 30 + 30 = 70\n",
        "after the third jump, at position 10 + 30 + 30 + 30 = 100\n",
        "Write an efficient algorithm for the following assumptions:\n",
        "\n",
        "X, Y and D are integers within the range [1..1,000,000,000];\n",
        "X ≤ Y.\n"
      ]
    },
    {
      "cell_type": "code",
      "metadata": {
        "id": "n1SQyd_SY_d-"
      },
      "source": [
        "# exemplo 1 de programa com eficiência em time and space complexity O(1) -- STONKS\n",
        "\n",
        "# Problem: you're givem an int n. Count the total of 1 + 2 + 3...+ n\n",
        "# Solution: Write the sequence 1,2,3...n and repeat the same sequence underneath it, but in reverse order:\n",
        "\n",
        "#(ex.: n = 10)\n",
        "#1  2 3 4 5 6 7 8 9 10\n",
        "#10 9 8 7 6 5 4 3 2 1\n",
        "#||||||||||||||||||||\n",
        "#= 11 (soma de cada coluna)\n",
        "#11 * n = 110 // 2 = 55\n",
        "\n",
        "n = 10\n",
        "def model_solution(n):\n",
        "  result = n * (n+1) // 2\n",
        "  return result"
      ],
      "execution_count": null,
      "outputs": []
    },
    {
      "cell_type": "code",
      "metadata": {
        "id": "ue6Gzi9GTnqq"
      },
      "source": [
        "# 1\n",
        "X = 10\n",
        "Y = 85\n",
        "D = 30\n",
        "\n",
        "def solution(X, Y, D):\n",
        "    # write your code in Python 3.6\n",
        "    Z = 0\n",
        "    while X < Y:\n",
        "        Z += 1\n",
        "        X += D\n",
        "    return Z\n",
        "    pass"
      ],
      "execution_count": null,
      "outputs": []
    },
    {
      "cell_type": "markdown",
      "metadata": {
        "id": "_oLJJYNzfhqE"
      },
      "source": [
        "2. PermMissingElem\n",
        "\n",
        "An array A consisting of N different integers is given. The array contains integers in the range [1..(N + 1)], which means that exactly one element is missing.\n",
        "\n",
        "Your goal is to find that missing element.\n",
        "\n",
        "Write a function:\n",
        "\n",
        "def solution(A)\n",
        "\n",
        "that, given an array A, returns the value of the missing element.\n",
        "\n",
        "For example, given array A such that:\n",
        "\n",
        "  A[0] = 2\n",
        "\n",
        "  A[1] = 3\n",
        "\n",
        "  A[2] = 1\n",
        "  \n",
        "  A[3] = 5\n",
        "\n",
        "the function should return 4, as it is the missing element.\n",
        "\n",
        "Write an efficient algorithm for the following assumptions:\n",
        "\n",
        "N is an integer within the range [0..100,000];\n",
        "the elements of A are all distinct;\n",
        "each element of array A is an integer within the range [1..(N + 1)]."
      ]
    },
    {
      "cell_type": "code",
      "metadata": {
        "id": "3fWsFQoRfZPX"
      },
      "source": [
        "# 2\n",
        "def solution(A):\n",
        "    soma1 = sum(A)\n",
        "    soma2 = (len(A) + 1 ) * (len(A) + 2) // 2\n",
        "    result = soma2 - soma1\n",
        "    return result"
      ],
      "execution_count": null,
      "outputs": []
    },
    {
      "cell_type": "markdown",
      "metadata": {
        "id": "g9w35NI8r-fi"
      },
      "source": [
        "3. TapeEquilibrium\n",
        "\n",
        "Minimize the value |(A[0] + ... + A[P-1]) - (A[P] + ... + A[N-1])|.\n",
        "\n",
        "A non-empty array A consisting of N integers is given. Array A represents numbers on a tape.\n",
        "\n",
        "Any integer P, such that 0 < P < N, splits this tape into two non-empty parts: A[0], A[1], ..., A[P − 1] and A[P], A[P + 1], ..., A[N − 1].\n",
        "\n",
        "The difference between the two parts is the value of: |(A[0] + A[1] + ... + A[P − 1]) − (A[P] + A[P + 1] + ... + A[N − 1])|\n",
        "\n",
        "In other words, it is the absolute difference between the sum of the first part and the sum of the second part.\n",
        "\n",
        "For example, consider array A such that:\n",
        "\n",
        "  A[0] = 3\n",
        "  A[1] = 1\n",
        "  A[2] = 2\n",
        "  A[3] = 4\n",
        "  A[4] = 3\n",
        "We can split this tape in four places:\n",
        "\n",
        "P = 1, difference = |3 − 10| = 7\n",
        "P = 2, difference = |4 − 9| = 5\n",
        "P = 3, difference = |6 − 7| = 1\n",
        "P = 4, difference = |10 − 3| = 7\n",
        "Write a function:\n",
        "\n",
        "def solution(A)\n",
        "\n",
        "that, given a non-empty array A of N integers, returns the minimal difference that can be achieved.\n",
        "\n",
        "For example, given:\n",
        "\n",
        "  A[0] = 3\n",
        "  A[1] = 1\n",
        "  A[2] = 2\n",
        "  A[3] = 4\n",
        "  A[4] = 3\n",
        "the function should return 1, as explained above.\n",
        "\n",
        "Write an efficient algorithm for the following assumptions:\n",
        "\n",
        "N is an integer within the range [2..100,000];\n",
        "each element of array A is an integer within the range [−1,000..1,000]."
      ]
    },
    {
      "cell_type": "code",
      "metadata": {
        "id": "JdqxVhOLtOQB"
      },
      "source": [
        "# 3 \n",
        "# não passou nos testes de uso, preciso debugar\n",
        "def solution(A):\n",
        "    # write your code in Python 3.6\n",
        "    if len(A) % 2 == 0:\n",
        "        meio = len(A) % 2\n",
        "    else:\n",
        "        meio = (len(A) // 2) + 1\n",
        "\n",
        "    first_part = A[:meio]\n",
        "    second_part = A[meio:]\n",
        "    diff = abs(sum(first_part) - sum(second_part))\n",
        "    return diff\n",
        "    pass"
      ],
      "execution_count": null,
      "outputs": []
    }
  ]
}